{
 "cells": [
  {
<<<<<<< HEAD
   "cell_type": "code",
   "execution_count": null,
   "metadata": {},
   "outputs": [],
   "source": [
    "\"\"\"\n",
    "Created on Thu Apr  9 16:27:05 2020\n",
    "\n",
    "@author: Administrator\n",
    "\"\"\""
=======
   "cell_type": "markdown",
   "metadata": {},
   "source": [
    "## Evaluating how well pre-trained movie embeddings can be used to predict user ratings and make recommendations\n"
>>>>>>> 0d194c6dc2930df677e43ea05e396d33d515fe9a
   ]
  },
  {
   "cell_type": "code",
   "execution_count": 2,
   "metadata": {
    "title": "Evaluation of how well we can use pre-trained embeddings alone to predict ratings/ make recommendations"
   },
   "outputs": [],
   "source": [
    "from movie_recommender import movies_similar_to\n",
    "import numpy as np\n",
    "import pandas as pd\n",
    "import pickle "
   ]
  },
  {
   "cell_type": "code",
   "execution_count": 3,
   "metadata": {
<<<<<<< HEAD
    "title": "Load embeddings and movie metadata"
   },
   "outputs": [],
   "source": [
    "with open('G:/My Drive/DublinAI/Mini Projects/chatbot/nn/embeddings_smaller', 'rb') as file:\n",
    "    embed, movie_to_index = pickle.load(file)\n",
    "\n",
    "df = pd.read_csv('./the-movies-dataset/df_prep.csv',low_memory=False)"
   ]
  },
  {
   "cell_type": "code",
   "execution_count": null,
   "metadata": {
    "title": "Data munging: Load validation data and remove any overlap with training data"
   },
   "outputs": [],
   "source": [
    "#ratings_training = pd.read_csv('G:/My Drive/DublinAI/Mini Projects/chatbot/the-movies-dataset/ratings.csv',low_memory=False)\n",
    "#ratings_val = pd.read_csv('G:/My Drive/DublinAI/Mini Projects/chatbot/extra_data/ml-latest/ratings_more.csv',low_memory=False)\n",
    "#\n",
    "## The two datasets may use different ways of indexing users? \n",
    "## But if movieId+rating+timestamp match, likely to be a duplicate\n",
    "#tr_copy = ratings_training.drop(['userId'],axis=1)\n",
    "#val_copy = ratings_val.drop(['userId'],axis=1)\n",
    "#merged = pd.concat([val_copy, tr_copy]).drop_duplicates(keep=False)\n",
    "#remainder_val_idx = np.asarray(merged.index[merged.index<val_copy.shape[0]])\n",
    "#\n",
    "#ratings_small = ratings_val.iloc[remainder_val_idx]\n",
    "#ratings_small['newId'] = ratings_small['movieId'].map(movie_to_index)\n",
    "#ratings_small = ratings_small.dropna(subset=['newId'])\n",
    "#\n",
    "## Check to make sure movies in ratings dataset are also in our main database\n",
    "#to_keep = ratings_small.movieId.apply(lambda x: x in df['movieId'])\n",
    "#ratings_small=ratings_small[to_keep]\n",
    "#ratings_small.shape\n",
    "#ratings_small.to_csv('validation_data.csv')"
   ]
  },
  {
   "cell_type": "code",
   "execution_count": null,
   "metadata": {
    "title": "Load (previously processed - see above) validation data"
   },
   "outputs": [],
   "source": [
    "ratings_small = pd.read_csv('validation_data.csv')\n",
    "n_users = ratings_small.userId.value_counts().shape[0]\n",
    "print(str(ratings_small.shape[0]) + ' ratings by ' + str(n_users) + ' users')\n",
    "\n",
    "#%%# how likely is a suggested movie to be one that the user actually watched and liked?\n",
    "# recommend k movies most similar to the first n movies that the user liked\n",
    "# find overlap with the movies that the user subsequently watched and liked\n",
    "def precision_recall_k(ratings, n_train, k=5):\n",
    "    n_positive = ratings[ratings.rating>3].userId.value_counts()\n",
    "    unique_users = np.asarray(n_positive[n_positive>(n_train+k)].index)\n",
    "    n_users = unique_users.shape[0]\n",
    "    precision = np.zeros((n_users,1))\n",
    "    recall=np.zeros((n_users,1))\n",
    "    print('Sufficient data found for ' + str(n_users) + ' users')\n",
    "    for i in range(n_users):\n",
    "        if i%1000==0:\n",
    "            print('Computing p & r for user: ' + str(i))\n",
    "        #indices = list(ratings.index[ratings.userId == unique_users[i]])\n",
    "        positive_indices = list(ratings.index[(ratings.userId == unique_users[i]) &  (ratings.rating>3)])        \n",
    "        v_i = list(map(int,list(ratings.newId[positive_indices[:n_train]])))\n",
    "        mapped_indices = [int(df.index[df.newId==j][0]) for j in v_i if df.index[df.newId==j].shape[0]>0]\n",
    "        entity = [0,mapped_indices]\n",
    "        _, ids = movies_similar_to(entity,k,genre='all',method = 'collab',exclude_collection = False)\n",
    "        predicted_films = set(np.asarray(df.newId[ids]))\n",
    "        #x = np.where(np.asarray(indices) == positive_indices[n_train])\n",
    "        #ground_truth =  set(ratings.newId[indices[x[0][0]:]])\n",
    "        ground_truth =  set(ratings.newId[positive_indices[n_train:]])\n",
    "        precision[i] = len(list(predicted_films.intersection(ground_truth)))/k\n",
    "        recall[i] = len(list(predicted_films.intersection(ground_truth)))/len(ground_truth)\n",
    "# current movie rating = distance of current movie from n-1\n",
    "    return unique_users, precision, recall\n",
    "\n",
    "unique_users, precision, recall = precision_recall_k(ratings_small,1,k=3)"
   ]
  },
  {
   "cell_type": "code",
   "execution_count": 15,
   "metadata": {},
   "outputs": [
    {
     "data": {
      "image/png": "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\n",
      "text/plain": [
       "<Figure size 432x288 with 1 Axes>"
      ]
     },
     "metadata": {
      "needs_background": "light"
     },
     "output_type": "display_data"
    }
   ],
   "source": [
    "import matplotlib.pyplot as plt\n",
    "plt.hist(precision, bins='auto')\n",
    "plt.title(\"Precision @ k=3, mean precision = \" + str(np.mean(precision)))\n",
    "plt.ylabel(\"n_users\")\n",
    "plt.show()"
=======
    "lines_to_next_cell": 1,
    "title": "Load data"
   },
   "outputs": [
    {
     "name": "stdout",
     "output_type": "stream",
     "text": [
      "   userId  movieId  rating   timestamp   newId\n",
      "0       1      307     3.5  1256677221   493.0\n",
      "1       1      481     3.5  1256677456   883.0\n",
      "2       1     1091     1.5  1256677471  1082.0\n",
      "3       1     1257     4.5  1256677460  1092.0\n",
      "4       1     1449     4.5  1256677264   569.0\n"
     ]
    }
   ],
   "source": [
    "# Load embeddings\n",
    "with open('G:/My Drive/DublinAI/Mini Projects/chatbot/nn/embeddings_smaller', 'rb') as file:\n",
    "    embed, movie_to_index = pickle.load(file)\n",
    "\n",
    "# Load validation data \n",
    "ratings = pd.read_csv('G:/My Drive/DublinAI/Mini Projects/chatbot/extra_data/ml-latest/ratings_more.csv',low_memory=False)\n",
    "ratings_small = ratings.iloc[:-(len(ratings)-10000)].copy()\n",
    "ratings_small['newId'] = ratings_small['movieId'].map(movie_to_index)\n",
    "ratings_small = ratings_small.dropna(subset=['newId'])\n",
    "print(ratings_small.head())"
>>>>>>> 0d194c6dc2930df677e43ea05e396d33d515fe9a
   ]
  },
  {
   "cell_type": "code",
<<<<<<< HEAD
   "execution_count": 16,
   "metadata": {
    "lines_to_next_cell": 2
   },
=======
   "execution_count": 4,
   "metadata": {},
>>>>>>> 0d194c6dc2930df677e43ea05e396d33d515fe9a
   "outputs": [
    {
     "name": "stdout",
     "output_type": "stream",
     "text": [
<<<<<<< HEAD
      "Sufficient data found for 12583 users\n",
      "Computing p & r for user: 0\n",
      "Computing p & r for user: 1000\n",
      "Computing p & r for user: 2000\n",
      "Computing p & r for user: 3000\n",
      "Computing p & r for user: 4000\n",
      "Computing p & r for user: 5000\n",
      "Computing p & r for user: 6000\n",
      "Computing p & r for user: 7000\n",
      "Computing p & r for user: 8000\n",
      "Computing p & r for user: 9000\n",
      "Computing p & r for user: 10000\n",
      "Computing p & r for user: 11000\n",
      "Computing p & r for user: 12000\n"
     ]
    },
    {
     "data": {
      "image/png": "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\n",
      "text/plain": [
       "<Figure size 432x288 with 1 Axes>"
      ]
     },
     "metadata": {
      "needs_background": "light"
     },
     "output_type": "display_data"
    }
   ],
   "source": [
    "# For comparison, we select k random movies for the user\n",
    "from random import randint\n",
    "def precision_recall_k_random(ratings, k=5):\n",
    "    n_positive = ratings[ratings.rating>3].userId.value_counts()\n",
    "    unique_users = np.asarray(n_positive[n_positive>k].index)\n",
    "    n_users = unique_users.shape[0]\n",
    "    precision = np.zeros((n_users,1))\n",
    "    recall=np.zeros((n_users,1))\n",
    "    print('Sufficient data found for ' + str(n_users) + ' users')\n",
    "    for i in range(n_users):\n",
    "        if i%1000==0:\n",
    "            print('Computing p & r for user: ' + str(i))\n",
    "        #indices = list(ratings.index[ratings.userId == unique_users[i]])\n",
    "        indices = list(ratings.index[(ratings.userId == unique_users[i]) &  (ratings.rating>3)]) \n",
    "        ids = [randint(0,df.shape[0]-1) for j in range(k)]\n",
    "        predicted_films = set(np.asarray(df.newId[ids]))\n",
    "        ground_truth =  set(ratings.newId[indices])\n",
    "        precision[i] = len(list(predicted_films.intersection(ground_truth)))/k\n",
    "        recall[i] = len(list(predicted_films.intersection(ground_truth)))/len(ground_truth)\n",
    "# current movie rating = distance of current movie from n-1\n",
    "    return unique_users, precision, recall\n",
    "\n",
    "unique_users_rand, precision_rand, recall_rand = precision_recall_k_random(ratings_small,k=3)\n",
    "\n",
    "plt.hist(precision_rand, bins='auto')\n",
    "plt.title(\"Precision @ k=3, mean precision = \" + str(np.mean(precision_rand)))\n",
    "plt.ylabel(\"n_users\")\n",
    "plt.show()"
=======
      "(5928, 5)\n"
     ]
    }
   ],
   "source": [
    "# Check to make sure movies in ratings dataset are also in our main database\n",
    "df = pd.read_csv('./the-movies-dataset/df_prep.csv',low_memory=False)\n",
    "to_keep = ratings_small.movieId.apply(lambda x: x in df['movieId'])\n",
    "ratings_small=ratings_small[to_keep]\n",
    "print(ratings_small.shape)"
>>>>>>> 0d194c6dc2930df677e43ea05e396d33d515fe9a
   ]
  },
  {
   "cell_type": "code",
<<<<<<< HEAD
   "execution_count": 17,
=======
   "execution_count": 14,
>>>>>>> 0d194c6dc2930df677e43ea05e396d33d515fe9a
   "metadata": {},
   "outputs": [
    {
     "name": "stdout",
     "output_type": "stream",
     "text": [
<<<<<<< HEAD
      "Sufficient data found for 12583 users\n",
      "Computing p & r for user: 0\n",
      "Computing p & r for user: 1000\n",
      "Computing p & r for user: 2000\n",
      "Computing p & r for user: 3000\n",
      "Computing p & r for user: 4000\n",
      "Computing p & r for user: 5000\n",
      "Computing p & r for user: 6000\n",
      "Computing p & r for user: 7000\n",
      "Computing p & r for user: 8000\n",
      "Computing p & r for user: 9000\n",
      "Computing p & r for user: 10000\n",
      "Computing p & r for user: 11000\n",
      "Computing p & r for user: 12000\n"
     ]
    },
    {
     "data": {
      "image/png": "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\n",
      "text/plain": [
       "<Figure size 432x288 with 1 Axes>"
      ]
     },
     "metadata": {
      "needs_background": "light"
     },
     "output_type": "display_data"
    }
   ],
   "source": [
    "# Another comparison - sort metadata by vote_average, pick the top k\n",
    "df_sorted = df.sort_values(by=['vote_average'],ascending=False)\n",
    "\n",
    "def precision_recall_k_best_ave(ratings, k=5):\n",
    "    n_positive = ratings[ratings.rating>3].userId.value_counts()\n",
    "    unique_users = np.asarray(n_positive[n_positive>k].index)\n",
    "    n_users = unique_users.shape[0]\n",
    "    precision = np.zeros((n_users,1))\n",
    "    recall=np.zeros((n_users,1))\n",
    "    ids = list(df_sorted.index[:k])\n",
    "    print('Sufficient data found for ' + str(n_users) + ' users')\n",
    "    for i in range(n_users):\n",
    "        if i%1000==0:\n",
    "            print('Computing p & r for user: ' + str(i))\n",
    "        #indices = list(ratings.index[ratings.userId == unique_users[i]])\n",
    "        indices = list(ratings.index[(ratings.userId == unique_users[i]) &  (ratings.rating>3)]) \n",
    "        predicted_films = set(np.asarray(df.newId[ids]))\n",
    "        ground_truth =  set(ratings.newId[indices])\n",
    "        precision[i] = len(list(predicted_films.intersection(ground_truth)))/k\n",
    "        recall[i] = len(list(predicted_films.intersection(ground_truth)))/len(ground_truth)\n",
    "# current movie rating = distance of current movie from n-1\n",
    "    return unique_users, precision, recall\n",
    "\n",
    "unique_users_best_ave, precision_best_ave, recall_best_ave = precision_recall_k_best_ave(ratings_small,k=3)\n",
    "\n",
    "plt.hist(precision_best_ave, bins='auto')\n",
    "plt.title(\"Precision @ k=3, mean precision = \" + str(np.mean(precision_best_ave)))\n",
    "plt.ylabel(\"n_users\")\n",
    "plt.show()"
=======
      "RMSE:0.9517571839760736\n"
     ]
    }
   ],
   "source": [
    "def calculate_distance(base,array):\n",
    "    rep_base = np.tile(base,(array.shape[0],1)) # python\n",
    "    rep_base_norm = np.sqrt((rep_base**2).sum(axis=1))\n",
    "    array_norm = np.sqrt((array**2).sum(axis=1))\n",
    "    c = np.multiply(rep_base,array).sum(axis=1)/(rep_base_norm*array_norm)\n",
    "    return c\n",
    "\n",
    "# predict ratings using embeddings - 1/dist\n",
    "def predict_rating(ratings,n_train=20,n_test=5):\n",
    "    a = ratings.userId.value_counts()\n",
    "    unique_users = a[0:(ratings.userId.value_counts()>(n_train+n_test)).sum()].index\n",
    "    n_users = unique_users.shape[0]\n",
    "    final_loss = np.zeros((1,n_users))\n",
    "    for i in range(n_users):\n",
    "        indices = list(ratings.index[ratings.userId == unique_users[i]])\n",
    "        r_i = np.asarray(ratings.rating[indices[:n_train]])\n",
    "        v_i = list(map(int,list(ratings.newId[indices[:n_train]])))\n",
    "        count = 0\n",
    "        predictions = np.zeros((n_test,1))\n",
    "        ground_truth = np.asarray(ratings.rating[indices[n_train:n_train+n_test]])\n",
    "        for j in range(n_train,n_train+n_test):\n",
    "            idx = ratings.newId[indices[j]]\n",
    "            b = 1/calculate_distance(embed[int(idx)],embed[v_i])\n",
    "            b[b<0]=0\n",
    "            if b.sum()>0:\n",
    "                b = b/b.sum()\n",
    "                predictions[count]=(b*r_i).sum()\n",
    "            else:\n",
    "                predictions[count]=r_i.mean()\n",
    "            count += 1\n",
    "        final_loss[0][i] = np.sqrt(np.mean((predictions - ground_truth)**2))\n",
    "# current movie rating = distance of current movie from n-1\n",
    "    return unique_users, final_loss\n",
    "\n",
    "def predict_rating_shuffe(ratings,n_train=20,n_test=5):\n",
    "    a = ratings.userId.value_counts()\n",
    "    unique_users = a[0:(ratings.userId.value_counts()>(n_train+n_test)).sum()].index\n",
    "    n_users = unique_users.shape[0]\n",
    "    final_loss = np.zeros((1,n_users))\n",
    "    for i in range(n_users):\n",
    "        indices = list(ratings.index[ratings.userId == unique_users[i]])\n",
    "        r_i = np.asarray(ratings.rating[indices[:n_train]])\n",
    "        v_i = list(map(int,list(ratings.newId[indices[:n_train]])))\n",
    "        count = 0\n",
    "        predictions = np.zeros((n_test,1))\n",
    "        ground_truth = np.asarray(ratings.rating[indices[n_train:n_train+n_test]])\n",
    "        for j in range(n_train,n_train+n_test):\n",
    "            idx = ratings.newId[indices[j]]\n",
    "            b = 1/calculate_distance(embed[int(idx)],embed[v_i])\n",
    "            b[b<0]=0\n",
    "            if b.sum()>0:\n",
    "                b = b/b.sum()\n",
    "                predictions[count]=(b*r_i).sum()\n",
    "            else:\n",
    "                predictions[count]=r_i.mean()\n",
    "            count += 1\n",
    "        final_loss[0][i] = np.sqrt(np.mean((predictions - ground_truth)**2))\n",
    "# current movie rating = distance of current movie from n-1\n",
    "    return unique_users, final_loss\n",
    "\n",
    "_, final_loss = predict_rating(ratings_small)\n",
    "\n",
    "print('RMSE:' + str(np.mean(final_loss)))"
>>>>>>> 0d194c6dc2930df677e43ea05e396d33d515fe9a
   ]
  },
  {
   "cell_type": "code",
<<<<<<< HEAD
   "execution_count": 18,
   "metadata": {},
   "outputs": [
    {
     "name": "stdout",
     "output_type": "stream",
     "text": [
      "Sufficient data found for 12583 users\n",
      "Computing p & r for user: 0\n",
      "Computing p & r for user: 1000\n",
      "Computing p & r for user: 2000\n",
      "Computing p & r for user: 3000\n",
      "Computing p & r for user: 4000\n",
      "Computing p & r for user: 5000\n",
      "Computing p & r for user: 6000\n",
      "Computing p & r for user: 7000\n",
      "Computing p & r for user: 8000\n",
      "Computing p & r for user: 9000\n",
      "Computing p & r for user: 10000\n",
      "Computing p & r for user: 11000\n",
      "Computing p & r for user: 12000\n"
     ]
    },
    {
     "data": {
      "image/png": "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\n",
=======
   "execution_count": 16,
   "metadata": {},
   "outputs": [
    {
     "data": {
      "image/png": "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\n",
>>>>>>> 0d194c6dc2930df677e43ea05e396d33d515fe9a
      "text/plain": [
       "<Figure size 432x288 with 1 Axes>"
      ]
     },
     "metadata": {
      "needs_background": "light"
     },
     "output_type": "display_data"
    }
   ],
   "source": [
<<<<<<< HEAD
    "# Another comparison - sort metadata by popularity, pick the top k\n",
    "df_sorted = df.sort_values(by=['popularity'],ascending=False)\n",
    "\n",
    "def precision_recall_k_best_pop(ratings, k=5):\n",
    "    n_positive = ratings[ratings.rating>3].userId.value_counts()\n",
    "    unique_users = np.asarray(n_positive[n_positive>k].index)\n",
    "    n_users = unique_users.shape[0]\n",
    "    precision = np.zeros((n_users,1))\n",
    "    recall=np.zeros((n_users,1))\n",
    "    ids = list(df_sorted.index[:k])\n",
    "    print('Sufficient data found for ' + str(n_users) + ' users')\n",
    "    for i in range(n_users):\n",
    "        if i%1000==0:\n",
    "            print('Computing p & r for user: ' + str(i))\n",
    "        indices = list(ratings.index[ratings.userId == unique_users[i]])\n",
    "        predicted_films = set(np.asarray(df.newId[ids]))\n",
    "        ground_truth =  set(ratings.newId[indices])\n",
    "        precision[i] = len(list(predicted_films.intersection(ground_truth)))/k\n",
    "        recall[i] = len(list(predicted_films.intersection(ground_truth)))/len(ground_truth)\n",
    "# current movie rating = distance of current movie from n-1\n",
    "    return unique_users, precision, recall\n",
    "\n",
    "unique_users_best_pop, precision_best_pop, recall_best_pop = precision_recall_k_best_pop(ratings_small,k=3)\n",
    "\n",
    "plt.hist(precision_best_pop, bins='auto')\n",
    "plt.title(\"Precision @ k=3, mean precision = \" + str(np.mean(precision_best_pop)))\n",
    "plt.ylabel(\"n_users\")\n",
=======
    "# how likely is a suggested movie to be one the user actually opted to watch\n",
    "# k most similar to n previous movies\n",
    "# overlap with the k actual movies\n",
    "def precision_k(ratings, n_train, k=5):\n",
    "    '''Return precision and recall at k metrics for each user.'''\n",
    "    a = ratings.userId.value_counts()\n",
    "    unique_users = a[0:(ratings.userId.value_counts()>(n_train+k)).sum()].index\n",
    "    n_users = unique_users.shape[0]\n",
    "    precision = np.zeros((1,n_users))\n",
    "    for i in range(n_users):\n",
    "        indices = list(ratings.index[ratings.userId == unique_users[i]])\n",
    "        v_i = list(map(int,list(ratings.newId[indices[:n_train]])))\n",
    "        mapped_indices = [int(df.index[df.newId==j][0]) for j in v_i if df.index[df.newId==j].shape[0]>0]\n",
    "        entity = [0,mapped_indices]\n",
    "        _, ids = movies_similar_to(entity,k,genre='all',method = 'collab',exclude_collection = False)\n",
    "        predicted_films = set(np.asarray(df.newId[ids]))\n",
    "        ground_truth =  set(ratings.newId[indices[n_train:]])\n",
    "        precision[0][i] = len(list(predicted_films.intersection(ground_truth)))\n",
    "# current movie rating = distance of current movie from n-1\n",
    "    return unique_users, precision\n",
    "\n",
    "unique_users, precision = precision_k(ratings_small,5,k=5)\n",
    "\n",
    "import matplotlib.pyplot as plt\n",
    "x_pos = [i for i, _ in enumerate(precision[0])]\n",
    "plt.bar(x_pos,precision[0],)\n",
    "plt.xlabel(\"User\")\n",
    "plt.title(\"Intersection: Top 5 recommendations and Movies Actually Watched\")\n",
>>>>>>> 0d194c6dc2930df677e43ea05e396d33d515fe9a
    "plt.show()"
   ]
  },
  {
   "cell_type": "code",
   "execution_count": null,
   "metadata": {},
   "outputs": [],
   "source": []
  }
 ],
 "metadata": {
  "jupytext": {
   "cell_metadata_filter": "title,-all",
   "encoding": "# -*- coding: utf-8 -*-",
   "main_language": "python",
   "notebook_metadata_filter": "-all"
  },
  "kernelspec": {
   "display_name": "Python 3",
   "language": "python",
   "name": "python3"
  },
  "language_info": {
   "codemirror_mode": {
    "name": "ipython",
    "version": 3
   },
   "file_extension": ".py",
   "mimetype": "text/x-python",
   "name": "python",
   "nbconvert_exporter": "python",
   "pygments_lexer": "ipython3",
   "version": "3.7.4"
  }
 },
 "nbformat": 4,
 "nbformat_minor": 2
}
