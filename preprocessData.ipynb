{
 "cells": [
  {
   "cell_type": "code",
   "execution_count": null,
   "metadata": {
    "lines_to_next_cell": 0
   },
   "outputs": [],
   "source": [
    "\"\"\"\n",
    "Created on Fri Mar 20 00:16:48 2020\n",
    "\n",
    "@author: Emily\n",
    "\"\"\""
   ]
  },
  {
   "cell_type": "code",
   "execution_count": null,
   "metadata": {},
   "outputs": [],
   "source": [
    "import pandas as pd\n",
    "\n",
    "df = pd.read_csv('./the-movies-dataset/movies_metadata.csv',low_memory=False)\n",
    "print(df.columns)"
   ]
  },
  {
   "cell_type": "code",
   "execution_count": null,
   "metadata": {},
   "outputs": [],
   "source": [
    "# embeddings of neural network trained on user ratings, and mapping for matching movies to their metadata\n",
    "import pickle\n",
    "with open('G:/My Drive/DublinAI/Mini Projects/chatbot/nn/embeddings_smaller', 'rb') as file:\n",
    "    embed, movie_to_index = pickle.load(file)\n",
    "mappings = pd.read_csv('./the-movies-dataset/links.csv',low_memory=False)\n",
    "mappings = mappings.drop_duplicates(subset=['tmdbId'],keep='first')\n",
    "mappings.set_index('tmdbId',inplace=True)\n",
    "to_movieId = mappings.to_dict()['movieId'] "
   ]
  },
  {
   "cell_type": "code",
   "execution_count": null,
   "metadata": {
    "title": "Data Munging"
   },
   "outputs": [],
   "source": [
    "import re\n",
    "import ast   \n",
    "def clean_text(text):\n",
    "    token = re.sub(r'[\\^\\\\,@\\‘?!\\.$%_:\\-“’“”]', '', text, flags=re.I)\n",
    "    return token\n",
    "\n",
    "# drop fields that are not relevant for our application \n",
    "df = df[df['adult'] == 'FALSE']\n",
    "df = df.drop(['adult','homepage','budget','runtime','release_date','original_language','production_countries','production_companies','spoken_languages','video','revenue','status','vote_count'],axis=1)\n",
    "df = df.dropna(subset=['imdb_id','poster_path'])\n",
    "\n",
    "# clean up text\n",
    "print('Before: ' + str(df['tagline'][1]))\n",
    "df['tagline'] = df['tagline'].apply(lambda x: clean_text(str(x)).lower())\n",
    "print('After: ' + str(df['tagline'][1]))\n",
    "df['title'] = df['title'].apply(lambda x: clean_text(str(x)).lower())\n",
    "df['original_title'] = df['original_title'].apply(lambda x: clean_text(str(x)).lower())\n",
    "df['overview'] = df['overview'].apply(lambda x: clean_text(str(x)).lower())\n",
    "print('Genres before: ' + str(df['genres'][1]))\n",
    "df['genres'] = df['genres'].apply(lambda x: ast.literal_eval(x)) #make into dictionary\n",
    "df['genres'] = df['genres'].apply(lambda x: ', '.join([d['name'] for d in x]))\n",
    "print('Genres after: ' + str(df['genres'][1]))\n",
    "df['imdbURL'] = 'https://www.imdb.com/title/' + df['imdb_id'] + '/'\n",
    "df['tmdbURL'] = 'https://www.themoviedb.org/movie/' + df['id']\n",
    "df['ImageURL'] = 'https://image.tmdb.org/t/p/w92' + df['poster_path']\n",
    "#ratings = pd.read_csv('./the-movies-dataset/ratings.csv',low_memory=False)\n",
    "df['overview'] = df['overview'].fillna('')\n",
    "df['genres'] = df['genres'].fillna('') "
   ]
  },
  {
   "cell_type": "code",
   "execution_count": null,
   "metadata": {
    "title": "add column of mapping to other dataset, drop movies where we don't have embeddings"
   },
   "outputs": [],
   "source": [
    "df = df.astype({'id':'int64'})\n",
    "df['movieId'] = df['id'].map(to_movieId)\n",
    "df['newId'] = df['movieId'].map(movie_to_index)\n",
    "df = df.dropna(subset=['newId'])\n",
    "df = df.reset_index()\n",
    "df = df.drop(['index'],axis=1)\n",
    "a = df['belongs_to_collection'][df['belongs_to_collection'].notnull()]\n",
    "indices = list(a.index)\n",
    "for i in indices:\n",
    "    b = str(a[i]).split(\", 'poster_path'\")\n",
    "    df['belongs_to_collection'][i]=ast.literal_eval(b[0]+'}').get('id')\n",
    "\n",
    "df.to_csv('./the-movies-dataset/df_prep.csv')"
   ]
  }
 ],
 "metadata": {
  "jupytext": {
   "cell_metadata_filter": "title,-all",
   "encoding": "# -*- coding: utf-8 -*-",
   "main_language": "python",
   "notebook_metadata_filter": "-all"
  }
 },
 "nbformat": 4,
 "nbformat_minor": 2
}
