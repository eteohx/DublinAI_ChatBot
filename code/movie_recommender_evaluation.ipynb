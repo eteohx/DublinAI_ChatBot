{
 "cells": [
  {
   "cell_type": "markdown",
   "metadata": {},
   "source": [
    "## Evaluation of how well we can use pre-trained movie embeddings to predict user ratings/ make recommendations\n"
   ]
  },
  {
   "cell_type": "code",
   "execution_count": 24,
   "metadata": {
    "title": "Evaluation of how well we can use pre-trained embeddings alone to predict ratings/ make recommendations"
   },
   "outputs": [],
   "source": [
    "from movie_recommender import movies_similar_to\n",
    "import numpy as np\n",
    "import pandas as pd\n",
    "import pickle "
   ]
  },
  {
   "cell_type": "code",
   "execution_count": 25,
   "metadata": {
    "lines_to_next_cell": 1,
    "title": "Load data"
   },
   "outputs": [
    {
     "name": "stdout",
     "output_type": "stream",
     "text": [
      "   userId  movieId  rating   timestamp   newId\n",
      "0       1      307     3.5  1256677221   493.0\n",
      "1       1      481     3.5  1256677456   883.0\n",
      "2       1     1091     1.5  1256677471  1082.0\n",
      "3       1     1257     4.5  1256677460  1092.0\n",
      "4       1     1449     4.5  1256677264   569.0\n"
     ]
    }
   ],
   "source": [
    "# Load embeddings\n",
    "with open('G:/My Drive/DublinAI/Mini Projects/chatbot/nn/embeddings_smaller', 'rb') as file:\n",
    "    embed, movie_to_index = pickle.load(file)\n",
    "\n",
    "# Load validation data \n",
    "ratings = pd.read_csv('G:/My Drive/DublinAI/Mini Projects/chatbot/extra_data/ml-latest/ratings_more.csv',low_memory=False)\n",
    "ratings_small = ratings.iloc[:-(len(ratings)-10000)].copy()\n",
    "ratings_small['newId'] = ratings_small['movieId'].map(movie_to_index)\n",
    "ratings_small = ratings_small.dropna(subset=['newId'])\n",
    "print(ratings_small.head())"
   ]
  },
  {
   "cell_type": "code",
   "execution_count": 26,
   "metadata": {},
   "outputs": [
    {
     "name": "stdout",
     "output_type": "stream",
     "text": [
      "(5928, 5)\n"
     ]
    }
   ],
   "source": [
    "# Check to make sure movies in ratings dataset are also in our main database\n",
    "df = pd.read_csv('./the-movies-dataset/df_prep.csv',low_memory=False)\n",
    "to_keep = ratings_small.movieId.apply(lambda x: x in df['movieId'])\n",
    "ratings_small=ratings_small[to_keep]\n",
    "print(ratings_small.shape)"
   ]
  },
  {
   "cell_type": "code",
   "execution_count": 39,
   "metadata": {},
   "outputs": [
    {
     "data": {
      "image/png": "[encoded data removed]",
      "text/plain": [
       "<Figure size 432x288 with 1 Axes>"
      ]
     },
     "metadata": {
      "needs_background": "light"
     },
     "output_type": "display_data"
    }
   ],
   "source": [
    "def calculate_distance(base,array):\n",
    "    rep_base = np.tile(base,(array.shape[0],1)) # python\n",
    "    rep_base_norm = np.sqrt((rep_base**2).sum(axis=1))\n",
    "    array_norm = np.sqrt((array**2).sum(axis=1))\n",
    "    c = np.multiply(rep_base,array).sum(axis=1)/(rep_base_norm*array_norm)\n",
    "    return c\n",
    "\n",
    "# predict ratings using embeddings - 1/dist\n",
    "def predict_rating(ratings,n_train=15,n_test=5):\n",
    "    a = ratings.userId.value_counts()\n",
    "    unique_users = a[0:(ratings.userId.value_counts()>(n_train+n_test)).sum()].index\n",
    "    n_users = unique_users.shape[0]\n",
    "    final_loss = np.zeros((n_users,1))\n",
    "    for i in range(n_users):\n",
    "        indices = list(ratings.index[ratings.userId == unique_users[i]])\n",
    "        r_i = np.asarray(ratings.rating[indices[:n_train]])\n",
    "        v_i = list(map(int,list(ratings.newId[indices[:n_train]])))\n",
    "        count = 0\n",
    "        predictions = np.zeros((n_test,1))\n",
    "        ground_truth = np.asarray(ratings.rating[indices[n_train:n_train+n_test]])\n",
    "        for j in range(n_train,n_train+n_test):\n",
    "            idx = ratings.newId[indices[j]]\n",
    "            b = 1/calculate_distance(embed[int(idx)],embed[v_i])\n",
    "            b[b<0]=0\n",
    "            if b.sum()>0:\n",
    "                b = b/b.sum()\n",
    "                predictions[count]=(b*r_i).sum()\n",
    "            else:\n",
    "                predictions[count]=r_i.mean()\n",
    "            count += 1\n",
    "        final_loss[i] = np.sqrt(np.mean((predictions - ground_truth)**2))\n",
    "# current movie rating = distance of current movie from n-1\n",
    "    return unique_users, final_loss\n",
    "\n",
    "# how likely is a suggested movie to be one the user actually opted to watch\n",
    "# k most similar to n previous movies\n",
    "# overlap with the k actual movies\n",
    "def precision_k(ratings, n_train, k=5):\n",
    "    '''Return precision and recall at k metrics for each user.'''\n",
    "    a = ratings.userId.value_counts()\n",
    "    unique_users = a[0:(ratings.userId.value_counts()>(n_train+k)).sum()].index\n",
    "    n_users = unique_users.shape[0]\n",
    "    precision = np.zeros((1,n_users))\n",
    "    for i in range(n_users):\n",
    "        indices = list(ratings.index[ratings.userId == unique_users[i]])\n",
    "        v_i = list(map(int,list(ratings.newId[indices[:n_train]])))\n",
    "        mapped_indices = [int(df.index[df.newId==j][0]) for j in v_i if df.index[df.newId==j].shape[0]>0]\n",
    "        entity = [0,mapped_indices]\n",
    "        _, ids = movies_similar_to(entity,k,genre='all',method = 'collab',exclude_collection = False)\n",
    "        predicted_films = set(np.asarray(df.newId[ids]))\n",
    "        ground_truth =  set(ratings.newId[indices[n_train:]])\n",
    "        precision[0][i] = len(list(predicted_films.intersection(ground_truth)))\n",
    "# current movie rating = distance of current movie from n-1\n",
    "    return unique_users, precision\n",
    "\n",
    "unique_users, precision = precision_k(ratings_small,5,k=5)\n",
    "\n",
    "import matplotlib.pyplot as plt\n",
    "x_pos = [i for i, _ in enumerate(precision[0])]\n",
    "plt.bar(x_pos,precision[0],)\n",
    "plt.xlabel(\"User\")\n",
    "plt.title(\"Intersection: Top 5 recommendations and Movies Actually Watched\")\n",
    "plt.show()"
   ]
  },
  {
   "cell_type": "code",
   "execution_count": null,
   "metadata": {},
   "outputs": [],
   "source": []
  }
 ],
 "metadata": {
  "jupytext": {
   "cell_metadata_filter": "title,-all",
   "encoding": "# -*- coding: utf-8 -*-",
   "main_language": "python",
   "notebook_metadata_filter": "-all"
  },
  "kernelspec": {
   "display_name": "Python 3",
   "language": "python",
   "name": "python3"
  },
  "language_info": {
   "codemirror_mode": {
    "name": "ipython",
    "version": 3
   },
   "file_extension": ".py",
   "mimetype": "text/x-python",
   "name": "python",
   "nbconvert_exporter": "python",
   "pygments_lexer": "ipython3",
   "version": "3.7.4"
  }
 },
 "nbformat": 4,
 "nbformat_minor": 2
}
