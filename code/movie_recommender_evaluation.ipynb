{
 "cells": [
  {
   "cell_type": "markdown",
   "metadata": {},
   "source": [
    "## Evaluation of the Recommender System\n",
    "\n",
    "### Our chatbot provides the user with three recommendations. Here, we evaluate the recommender system; in particular, the relevance and coverage of the recommendations provided. We do so using some of the user rating data that was held out. "
   ]
  },
  {
   "cell_type": "code",
   "execution_count": 2,
   "metadata": {
    "title": "Evaluation of how well we can use pre-trained embeddings alone to predict ratings/ make recommendations"
   },
   "outputs": [],
   "source": [
    "from movie_recommender import movies_similar_to\n",
    "import numpy as np\n",
    "import pandas as pd\n",
    "import pickle \n",
    "\n",
    "with open('G:/My Drive/DublinAI/Mini Projects/chatbot/nn/embeddings_smaller', 'rb') as file:\n",
    "    embed, movie_to_index = pickle.load(file)\n",
    "\n",
    "df = pd.read_csv('./the-movies-dataset/df_prep.csv',low_memory=False)\n",
    "\n",
    "# A bit of munging.. \n",
    "#ratings_training = pd.read_csv('G:/My Drive/DublinAI/Mini Projects/chatbot/the-movies-dataset/ratings.csv',low_memory=False)\n",
    "#ratings_val = pd.read_csv('G:/My Drive/DublinAI/Mini Projects/chatbot/extra_data/ml-latest/ratings_more.csv',low_memory=False)\n",
    "#\n",
    "## The two datasets may use different ways of indexing users? \n",
    "## But if movieId+rating+timestamp match, likely to be a duplicate\n",
    "#tr_copy = ratings_training.drop(['userId'],axis=1)\n",
    "#val_copy = ratings_val.drop(['userId'],axis=1)\n",
    "#merged = pd.concat([val_copy, tr_copy]).drop_duplicates(keep=False)\n",
    "#remainder_val_idx = np.asarray(merged.index[merged.index<val_copy.shape[0]])\n",
    "#\n",
    "#ratings_small = ratings_val.iloc[remainder_val_idx]\n",
    "#ratings_small['newId'] = ratings_small['movieId'].map(movie_to_index)\n",
    "#ratings_small = ratings_small.dropna(subset=['newId'])\n",
    "#\n",
    "## Check to make sure movies in ratings dataset are also in our main database\n",
    "#to_keep = ratings_small.movieId.apply(lambda x: x in df['movieId'])\n",
    "#ratings_small=ratings_small[to_keep]\n",
    "#ratings_small.shape\n",
    "#ratings_small.to_csv('validation_data.csv')"
   ]
  },
  {
   "cell_type": "markdown",
   "metadata": {},
   "source": [
    "### Precision @ k (k=3 in this case) is a measure of the number of relevant recommendations in the top k items recommended. Our input to the system is a movie that the user has watched and liked. We define a recommendation to be 'relevant' if it was indeed subsequently watched by the user. Precision allows us to gauge the accuracy of our system. Users are likely to be happy with the recommendation if it is relevant. \n",
    "\n",
    "### However, focusing on accuracy alone could be suboptimal. We also want to provide users with interesting recommendations -- items they may not have come across themselves. We compute another measure here -- coverage -- to gauge the diversity of recommended items. "
   ]
  },
  {
   "cell_type": "code",
   "execution_count": null,
   "metadata": {
    "title": "Load (previously processed - see above) validation data"
   },
   "outputs": [],
   "source": [
    "ratings_small = pd.read_csv('validation_data.csv')\n",
    "n_users = ratings_small.userId.value_counts().shape[0]\n",
    "print(str(ratings_small.shape[0]) + ' ratings by ' + str(n_users) + ' users')\n",
    "\n",
    "#%%# how likely is a suggested movie to be one that the user actually watched and liked?\n",
    "# recommend k movies most similar to the first n movies that the user liked\n",
    "# find overlap with the movies that the user subsequently watched and liked\n",
    "def precision_recall_coverage_k(ratings, n_train, k=5):\n",
    "    n_positive = ratings[ratings.rating>3].userId.value_counts()\n",
    "    unique_users = np.asarray(n_positive[n_positive>(n_train+k)].index)\n",
    "    potential_movies = ratings[ratings.rating>3].movieId.unique().shape[0]\n",
    "    n_users = unique_users.shape[0]\n",
    "    precision = np.zeros((n_users,1))\n",
    "    recall=np.zeros((n_users,1))\n",
    "    all_predictions = []\n",
    "    print('Sufficient data found for ' + str(n_users) + ' users')\n",
    "    for i in range(n_users):\n",
    "        if i%1000==0:\n",
    "            print('Computing p & r for user: ' + str(i))\n",
    "        #indices = list(ratings.index[ratings.userId == unique_users[i]])\n",
    "        positive_indices = list(ratings.index[(ratings.userId == unique_users[i]) &  (ratings.rating>3)])        \n",
    "        v_i = list(map(int,list(ratings.newId[positive_indices[:n_train]])))\n",
    "        mapped_indices = [int(df.index[df.newId==j][0]) for j in v_i if df.index[df.newId==j].shape[0]>0]\n",
    "        entity = [0,mapped_indices]\n",
    "        _, ids = movies_similar_to(entity,k,genre='all',method = 'collab',exclude_collection = False)\n",
    "        predicted_films = set(np.asarray(df.newId[ids]))\n",
    "        all_predictions = all_predictions + list(predicted_films)\n",
    "        #x = np.where(np.asarray(indices) == positive_indices[n_train])\n",
    "        #ground_truth =  set(ratings.newId[indices[x[0][0]:]])\n",
    "        ground_truth =  set(ratings.newId[positive_indices[n_train:]])\n",
    "        precision[i] = len(list(predicted_films.intersection(ground_truth)))/k\n",
    "        recall[i] = len(list(predicted_films.intersection(ground_truth)))/len(ground_truth)\n",
    "# current movie rating = distance of current movie from n-1\n",
    "    coverage = len(set(all_predictions))/potential_movies\n",
    "    return unique_users, precision, recall, coverage\n",
    "\n",
    "unique_users, precision, recall, coverage = precision_recall_coverage_k(ratings_small,1,k=3)"
   ]
  },
  {
   "cell_type": "code",
   "execution_count": 5,
   "metadata": {},
   "outputs": [
    {
     "data": {
      "image/png": "[encoded data removed]",
      "text/plain": [
       "<Figure size 432x288 with 1 Axes>"
      ]
     },
     "metadata": {
      "needs_background": "light"
     },
     "output_type": "display_data"
    },
    {
     "name": "stdout",
     "output_type": "stream",
     "text": [
      "Coverage = 0.5173305742369374\n"
     ]
    }
   ],
   "source": [
    "import matplotlib.pyplot as plt\n",
    "plt.hist(precision, bins='auto')\n",
    "plt.title(\"Precision @ k=3, mean precision = \" + str(np.mean(precision)))\n",
    "plt.ylabel(\"n_users\")\n",
    "plt.show()\n",
    "print('Coverage = ' + str(coverage))"
   ]
  },
  {
   "cell_type": "markdown",
   "metadata": {},
   "source": [
    "### What do these numbers mean? To get a better feel, we compare them with what with would get if we had (1) simply selected any 3 random movies for the user, (2) always recommended the same 3 movies which have the highest average rating across users, and (3) always recommended the same 3 most popular movies according to imdb users (different dataset)"
   ]
  },
  {
   "cell_type": "code",
   "execution_count": null,
   "metadata": {
    "lines_to_next_cell": 2
   },
   "outputs": [],
   "source": [
    "# For comparison, we select k random movies for the user\n",
    "from random import randint\n",
    "def precision_recall_coverage_k_random(ratings, k=5):\n",
    "    n_positive = ratings[ratings.rating>3].userId.value_counts()\n",
    "    unique_users = np.asarray(n_positive[n_positive>k].index)\n",
    "    potential_movies = ratings[ratings.rating>3].movieId.unique().shape[0]\n",
    "    n_users = unique_users.shape[0]\n",
    "    precision = np.zeros((n_users,1))\n",
    "    recall=np.zeros((n_users,1))\n",
    "    all_predictions = []\n",
    "    print('Sufficient data found for ' + str(n_users) + ' users')\n",
    "    for i in range(n_users):\n",
    "        if i%1000==0:\n",
    "            print('Computing p & r for user: ' + str(i))\n",
    "        #indices = list(ratings.index[ratings.userId == unique_users[i]])\n",
    "        indices = list(ratings.index[(ratings.userId == unique_users[i]) &  (ratings.rating>3)]) \n",
    "        ids = [randint(0,df.shape[0]-1) for j in range(k)]\n",
    "        predicted_films = set(np.asarray(df.newId[ids]))\n",
    "        all_predictions = all_predictions + list(predicted_films)\n",
    "        ground_truth =  set(ratings.newId[indices])\n",
    "        precision[i] = len(list(predicted_films.intersection(ground_truth)))/k\n",
    "        recall[i] = len(list(predicted_films.intersection(ground_truth)))/len(ground_truth)\n",
    "# current movie rating = distance of current movie from n-1\n",
    "    coverage = len(set(all_predictions))/potential_movies\n",
    "    print('number of potential movies: ' + str(potential_movies))\n",
    "    return unique_users, precision, recall, coverage\n",
    "\n",
    "unique_users_rand, precision_rand, recall_rand, coverage_rand = precision_recall_coverage_k_random(ratings_small,k=3)\n"
   ]
  },
  {
   "cell_type": "code",
   "execution_count": 9,
   "metadata": {},
   "outputs": [
    {
     "data": {
      "image/png": "[encoded data removed]",
      "text/plain": [
       "<Figure size 432x288 with 1 Axes>"
      ]
     },
     "metadata": {
      "needs_background": "light"
     },
     "output_type": "display_data"
    },
    {
     "name": "stdout",
     "output_type": "stream",
     "text": [
      "Coverage = 1.932229694774961\n"
     ]
    }
   ],
   "source": [
    "plt.hist(precision_rand, bins='auto')\n",
    "plt.title(\"Precision @ k=3, mean precision = \" + str(np.mean(precision_rand)))\n",
    "plt.ylabel(\"n_users\")\n",
    "plt.show()\n",
    "print('Coverage = ' + str(coverage_rand))"
   ]
  },
  {
   "cell_type": "code",
   "execution_count": null,
   "metadata": {},
   "outputs": [],
   "source": [
    "# Another comparison - sort metadata by vote_average, pick the top k\n",
    "df_sorted = df.sort_values(by=['vote_average'],ascending=False)\n",
    "\n",
    "def precision_recall_k_best_ave(ratings, k=5):\n",
    "    n_positive = ratings[ratings.rating>3].userId.value_counts()\n",
    "    unique_users = np.asarray(n_positive[n_positive>k].index)\n",
    "    n_users = unique_users.shape[0]\n",
    "    precision = np.zeros((n_users,1))\n",
    "    recall=np.zeros((n_users,1))\n",
    "    ids = list(df_sorted.index[:k])\n",
    "    print('Sufficient data found for ' + str(n_users) + ' users')\n",
    "    for i in range(n_users):\n",
    "        if i%1000==0:\n",
    "            print('Computing p & r for user: ' + str(i))\n",
    "        #indices = list(ratings.index[ratings.userId == unique_users[i]])\n",
    "        indices = list(ratings.index[(ratings.userId == unique_users[i]) &  (ratings.rating>3)]) \n",
    "        predicted_films = set(np.asarray(df.newId[ids]))\n",
    "        ground_truth =  set(ratings.newId[indices])\n",
    "        precision[i] = len(list(predicted_films.intersection(ground_truth)))/k\n",
    "        recall[i] = len(list(predicted_films.intersection(ground_truth)))/len(ground_truth)\n",
    "# current movie rating = distance of current movie from n-1\n",
    "    return unique_users, precision, recall\n",
    "\n",
    "unique_users_best_ave, precision_best_ave, recall_best_ave = precision_recall_k_best_ave(ratings_small,k=3)"
   ]
  },
  {
   "cell_type": "code",
   "execution_count": 11,
   "metadata": {},
   "outputs": [
    {
     "data": {
      "image/png": "[encoded data removed]",
      "text/plain": [
       "<Figure size 432x288 with 1 Axes>"
      ]
     },
     "metadata": {
      "needs_background": "light"
     },
     "output_type": "display_data"
    },
    {
     "name": "stdout",
     "output_type": "stream",
     "text": [
      "Coverage = 0.0015519917227108122\n"
     ]
    }
   ],
   "source": [
    "plt.hist(precision_best_ave, bins='auto')\n",
    "plt.title(\"Precision @ k=3, mean precision = \" + str(np.mean(precision_best_ave)))\n",
    "plt.ylabel(\"n_users\")\n",
    "plt.show()\n",
    "print('Coverage = ' + str(3/1933))"
   ]
  },
  {
   "cell_type": "code",
   "execution_count": null,
   "metadata": {},
   "outputs": [],
   "source": [
    "# Another comparison - sort metadata by popularity, pick the top k\n",
    "df_sorted = df.sort_values(by=['popularity'],ascending=False)\n",
    "\n",
    "def precision_recall_k_best_pop(ratings, k=5):\n",
    "    n_positive = ratings[ratings.rating>3].userId.value_counts()\n",
    "    unique_users = np.asarray(n_positive[n_positive>k].index)\n",
    "    n_users = unique_users.shape[0]\n",
    "    precision = np.zeros((n_users,1))\n",
    "    recall=np.zeros((n_users,1))\n",
    "    ids = list(df_sorted.index[:k])\n",
    "    print('Sufficient data found for ' + str(n_users) + ' users')\n",
    "    for i in range(n_users):\n",
    "        if i%1000==0:\n",
    "            print('Computing p & r for user: ' + str(i))\n",
    "        indices = list(ratings.index[ratings.userId == unique_users[i]])\n",
    "        predicted_films = set(np.asarray(df.newId[ids]))\n",
    "        ground_truth =  set(ratings.newId[indices])\n",
    "        precision[i] = len(list(predicted_films.intersection(ground_truth)))/k\n",
    "        recall[i] = len(list(predicted_films.intersection(ground_truth)))/len(ground_truth)\n",
    "# current movie rating = distance of current movie from n-1\n",
    "    return unique_users, precision, recall\n",
    "\n",
    "unique_users_best_pop, precision_best_pop, recall_best_pop = precision_recall_k_best_pop(ratings_small,k=3)\n"
   ]
  },
  {
   "cell_type": "code",
   "execution_count": 13,
   "metadata": {},
   "outputs": [
    {
     "data": {
      "image/png": "[encoded data removed]",
      "text/plain": [
       "<Figure size 432x288 with 1 Axes>"
      ]
     },
     "metadata": {
      "needs_background": "light"
     },
     "output_type": "display_data"
    }
   ],
   "source": [
    "plt.hist(precision_best_pop, bins='auto')\n",
    "plt.title(\"Precision @ k=3, mean precision = \" + str(np.mean(precision_best_pop)))\n",
    "plt.ylabel(\"n_users\")\n",
    "plt.show()"
   ]
  },
  {
   "cell_type": "markdown",
   "metadata": {},
   "source": [
    "### To summarise, we find that our system is less precise than if we were to simply recommended the top movies in terms of average user rating. However, our coverage (diversity of recommendations) in that case would be very low -- customers would soon get bored. We could get higher coverage if we randomly recommended movies to users, but the relevance of our recommendations in that case is low -- this could frustrate customers. Our system therefore strikes a balance between the two extremes. \n"
   ]
  },
  {
   "cell_type": "code",
   "execution_count": null,
   "metadata": {},
   "outputs": [],
   "source": []
  }
 ],
 "metadata": {
  "jupytext": {
   "cell_metadata_filter": "title,-all",
   "encoding": "# -*- coding: utf-8 -*-",
   "main_language": "python",
   "notebook_metadata_filter": "-all"
  },
  "kernelspec": {
   "display_name": "Python 3",
   "language": "python",
   "name": "python3"
  },
  "language_info": {
   "codemirror_mode": {
    "name": "ipython",
    "version": 3
   },
   "file_extension": ".py",
   "mimetype": "text/x-python",
   "name": "python",
   "nbconvert_exporter": "python",
   "pygments_lexer": "ipython3",
   "version": "3.7.4"
  }
 },
 "nbformat": 4,
 "nbformat_minor": 2
}
